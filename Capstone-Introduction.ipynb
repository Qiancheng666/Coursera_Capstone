{
    "nbformat_minor": 1, 
    "cells": [
        {
            "source": "## 1. Introduction/Business Problem", 
            "cell_type": "markdown", 
            "metadata": {
                "collapsed": true
            }
        }, 
        {
            "source": "Toronto is the provincial capital of Ontario and the most populous city in Canada, with a population of 2,731,571 in 2016. Current to 2016, the Toronto census metropolitan area (CMA), of which the majority is within the Greater Toronto Area (GTA), held a population of 5,928,040, making it Canada's most populous CMA. The city is the anchor of the Golden Horseshoe, an urban agglomeration of 9,245,438 people (as of 2016) surrounding the western end of Lake Ontario. Toronto is an international centre of business, finance, arts, and culture, and is recognized as one of the most multicultural and cosmopolitan cities in the world.\n\nThe idea of this project is about open a new restaurant in Toronto. By using data science methods and machine learning methods such as clustering, I will help people to choose the right location by providing a cluster map of Toronto and the data about income and population of each neighborhood. \n", 
            "cell_type": "markdown", 
            "metadata": {}
        }, 
        {
            "source": "## 2.Data ", 
            "cell_type": "markdown", 
            "metadata": {}
        }, 
        {
            "source": "There are two kinds of Data required:\n\n1.List of Toronto's neighborhoods with their Latitude and Longitude\nDescription:Scrapping of Toronto neighborhoods via Wikipedia, getting Latitude and Longitude data of these neighborhoods via Geocoder package,\nusing Foursquare API to get venue data related to these neighborhoods.\n\n2.Toronto's 2016 Census\nDescription: Comparing the population and income of each cluster and find the best location for restaurant. The website: https://www.toronto.ca/city-government/data-research-maps/open-data/open-data-catalogue/#8c732154-5012-9afe-d0cd-ba3ffc813d5a contains Population, Average income for each of the Neighborhood.\n", 
            "cell_type": "markdown", 
            "metadata": {}
        }, 
        {
            "execution_count": null, 
            "cell_type": "code", 
            "metadata": {}, 
            "outputs": [], 
            "source": ""
        }
    ], 
    "metadata": {
        "kernelspec": {
            "display_name": "Python 3.6", 
            "name": "python3", 
            "language": "python"
        }, 
        "language_info": {
            "mimetype": "text/x-python", 
            "nbconvert_exporter": "python", 
            "version": "3.6.8", 
            "name": "python", 
            "file_extension": ".py", 
            "pygments_lexer": "ipython3", 
            "codemirror_mode": {
                "version": 3, 
                "name": "ipython"
            }
        }
    }, 
    "nbformat": 4
}